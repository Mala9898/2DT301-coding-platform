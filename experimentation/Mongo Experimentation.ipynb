{
 "cells": [
  {
   "cell_type": "code",
   "execution_count": 4,
   "metadata": {},
   "outputs": [],
   "source": []
  },
  {
   "cell_type": "code",
   "execution_count": 5,
   "metadata": {},
   "outputs": [
    {
     "data": {
      "text/plain": [
       "MongoClient(host=['localhost:27017'], document_class=dict, tz_aware=False, connect=True)"
      ]
     },
     "execution_count": 5,
     "metadata": {},
     "output_type": "execute_result"
    }
   ],
   "source": [
    "import pymongo\n",
    "from pymongo import MongoClient\n",
    "client = MongoClient(host=\"142.93.109.43\", port=27017)\n",
    "db = client.get_database('total_records')\n",
    "records = db.register"
   ]
  },
  {
   "cell_type": "code",
   "execution_count": 14,
   "metadata": {},
   "outputs": [
    {
     "data": {
      "text/plain": [
       "MongoClient(host=['142.93.109.43:27017'], document_class=dict, tz_aware=False, connect=True)"
      ]
     },
     "execution_count": 14,
     "metadata": {},
     "output_type": "execute_result"
    }
   ],
   "source": [
    "\n",
    "client"
   ]
  },
  {
   "cell_type": "code",
   "execution_count": null,
   "metadata": {},
   "outputs": [],
   "source": [
    "db = client.get_database('total_records')\n",
    "records = db.register"
   ]
  },
  {
   "cell_type": "code",
   "execution_count": 71,
   "metadata": {},
   "outputs": [
    {
     "data": {
      "text/plain": [
       "'8CMHBPH0TYM51Q08QRNY'"
      ]
     },
     "execution_count": 71,
     "metadata": {},
     "output_type": "execute_result"
    }
   ],
   "source": [
    "import random\n",
    "import string\n",
    "\n",
    "''.join(random.choices(string.ascii_uppercase + string.digits, k=20))"
   ]
  },
  {
   "cell_type": "code",
   "execution_count": 72,
   "metadata": {},
   "outputs": [
    {
     "name": "stdout",
     "output_type": "stream",
     "text": [
      "/Users/stan/Documents/EDU/uni/2DT301-coding-platform/experimentation\r\n"
     ]
    }
   ],
   "source": [
    "!pwd"
   ]
  },
  {
   "cell_type": "code",
   "execution_count": 93,
   "metadata": {},
   "outputs": [
    {
     "name": "stdout",
     "output_type": "stream",
     "text": [
      "{'squaring.py': {'title': 'squaring', 'tests': [{'input': '2', 'answer': '2'}, {'input': '2', 'answer': '8'}, {'input': '2', 'answer': '16'}]}, 'cubing.py': {'title': 'adding two numbers', 'tests': [{'input': '2 2', 'answer': '4'}, {'input': '100 15', 'answer': '115'}]}}\n",
      "\n",
      "file: squaring.py\n",
      "title: squaring\n",
      "input: 2\n",
      "output: 2\n",
      "input: 2\n",
      "output: 8\n",
      "input: 2\n",
      "output: 16\n",
      "\n",
      "file: cubing.py\n",
      "title: adding two numbers\n",
      "input: 2 2\n",
      "output: 4\n",
      "input: 100 15\n",
      "output: 115\n",
      "\n"
     ]
    }
   ],
   "source": [
    "import json\n",
    "\n",
    "\n",
    "with open('pset.tests') as f:\n",
    "    data = json.load(f)\n",
    "    print(data)\n",
    "    print()\n",
    "    for d in data:\n",
    "        print(f\"file: {d}\")\n",
    "        print(f\"title: {data[d]['title']}\")\n",
    "        tests = data[d]['tests']\n",
    "        for test in tests:\n",
    "#             print(test)\n",
    "            print(f\"input: {test['input']}\")\n",
    "            print(f\"output: {test['answer']}\")\n",
    "#         print(tests)\n",
    "        print()"
   ]
  },
  {
   "cell_type": "code",
   "execution_count": null,
   "metadata": {},
   "outputs": [],
   "source": [
    "import sys\n",
    "data = input():\n",
    "    "
   ]
  },
  {
   "cell_type": "code",
   "execution_count": 96,
   "metadata": {},
   "outputs": [
    {
     "data": {
      "text/plain": [
       "b'abc'"
      ]
     },
     "execution_count": 96,
     "metadata": {},
     "output_type": "execute_result"
    }
   ],
   "source": [
    "testInput = \"abc\"\n",
    "\n",
    "bytes(testInput, 'utf8')"
   ]
  }
 ],
 "metadata": {
  "kernelspec": {
   "display_name": "Python 3",
   "language": "python",
   "name": "python3"
  },
  "language_info": {
   "codemirror_mode": {
    "name": "ipython",
    "version": 3
   },
   "file_extension": ".py",
   "mimetype": "text/x-python",
   "name": "python",
   "nbconvert_exporter": "python",
   "pygments_lexer": "ipython3",
   "version": "3.7.6"
  }
 },
 "nbformat": 4,
 "nbformat_minor": 4
}
