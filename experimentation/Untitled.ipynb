{
 "cells": [
  {
   "cell_type": "code",
   "execution_count": 8,
   "metadata": {},
   "outputs": [
    {
     "name": "stdout",
     "output_type": "stream",
     "text": [
      "stdout: ocean\n",
      "\n",
      "stderr: \n"
     ]
    }
   ],
   "source": [
    "import subprocess\n",
    "import sys\n",
    "import os\n",
    "\n",
    "result = subprocess.run(\n",
    "    [sys.executable, \"-c\", \"print('ocean')\"], capture_output=True, text=True, timeout=1\n",
    ")\n",
    "print(\"stdout:\", result.stdout)\n",
    "print(\"stderr:\", result.stderr)"
   ]
  },
  {
   "cell_type": "code",
   "execution_count": 45,
   "metadata": {},
   "outputs": [
    {
     "data": {
      "text/plain": [
       "'meme'"
      ]
     },
     "execution_count": 45,
     "metadata": {},
     "output_type": "execute_result"
    }
   ],
   "source": [
    "import json\n",
    "\n",
    "x =  '{ \"command\":\"meme\", \"age\":30, \"city\":\"New York\"}'\n",
    "\n",
    "json.loads(x)['command']"
   ]
  },
  {
   "cell_type": "code",
   "execution_count": 46,
   "metadata": {},
   "outputs": [
    {
     "name": "stdout",
     "output_type": "stream",
     "text": [
      "The exit code was: 0\n",
      "total 24\n",
      "24 -rw-r--r--  1 stan  staff    11K Mar  6 16:53 Untitled.ipynb\n",
      " 0 drwxr-xr-x  6 stan  staff   192B Mar  3 15:19 hello-rust\n",
      "\n"
     ]
    },
    {
     "data": {
      "text/plain": [
       "''"
      ]
     },
     "execution_count": 46,
     "metadata": {},
     "output_type": "execute_result"
    }
   ],
   "source": [
    "list_files = subprocess.run(\"ls -lsh\", capture_output=True, text=True, shell=True)\n",
    "print(\"The exit code was: %d\" % list_files.returncode)\n",
    "print(f\"{list_files.stdout}\")\n",
    "list_files.stderr"
   ]
  },
  {
   "cell_type": "code",
   "execution_count": 22,
   "metadata": {},
   "outputs": [
    {
     "name": "stdout",
     "output_type": "stream",
     "text": [
      "The exit code was: 0\n",
      "total 24\n",
      "-rw-r--r--  1 stan  staff  9943 Mar  6 16:22 Untitled.ipynb\n",
      "drwxr-xr-x  6 stan  staff   192 Mar  3 15:19 hello-rust\n",
      "\n"
     ]
    }
   ],
   "source": [
    "list_files = subprocess.run([\"ls\", \"-l\"], capture_output=True, text=True)\n",
    "print(\"The exit code was: %d\" % list_files.returncode)\n",
    "print(f\"{list_files.stdout}\")"
   ]
  },
  {
   "cell_type": "code",
   "execution_count": 52,
   "metadata": {},
   "outputs": [
    {
     "data": {
      "text/plain": [
       "b'hello world\\n'"
      ]
     },
     "execution_count": 52,
     "metadata": {},
     "output_type": "execute_result"
    }
   ],
   "source": [
    "import docker\n",
    "\n",
    "client = docker.from_env()\n",
    "client.containers.run(\"ubuntu\", \"echo hello world\")"
   ]
  },
  {
   "cell_type": "code",
   "execution_count": 1,
   "metadata": {},
   "outputs": [],
   "source": [
    "# import docker\n",
    "\n",
    "# client = docker.from_env()\n",
    "# client.containers.run(\"bfb899581277\", \"python --version\")"
   ]
  },
  {
   "cell_type": "code",
   "execution_count": 23,
   "metadata": {},
   "outputs": [
    {
     "name": "stdout",
     "output_type": "stream",
     "text": [
      "The exit code was: 0\n",
      "stdout: 1615820367.2831\n",
      "hello world!\n",
      "\n",
      "stderr: \n"
     ]
    }
   ],
   "source": [
    "import base64\n",
    "\n",
    "project_code = 'aW1wb3J0IHRpbWUNCg0KcHJpbnQoZiJ7dGltZS50aW1lKCl9IikNCnByaW50KCJoZWxsbyB3b3JsZCEiKQ=='\n",
    "# project_code = 'cHJpbnQoImhlbGxvIHdvcmxkISIp'\n",
    "decoded = base64.b64decode(project_code).decode(\"utf8\")\n",
    "\n",
    "list_files = subprocess.run([sys.executable, \"-c\", decoded], capture_output=True, text=True)\n",
    "print(\"The exit code was: %d\" % list_files.returncode)\n",
    "print(f\"stdout: {list_files.stdout}\")\n",
    "print(f\"stderr: {list_files.stderr}\")\n"
   ]
  },
  {
   "cell_type": "code",
   "execution_count": null,
   "metadata": {},
   "outputs": [],
   "source": [
    "import base64\n",
    "\n",
    "project_code = 'Ly9pbXBvcnQgamF2YS51dGlsLlNjYW5uZXI7CmNsYXNzIE1haW4gewoJcHVibGljIHN0YXRpYyB2b2lkIG1haW4oU3RyaW5nW10gYXJncykgewoJCS8vU2Nhbm5lciBzYyA9IG5ldyBTY2FubmVyKFN5c3RlbS5pbik7CgkJU3lzdGVtLm91dC5wcmludGxuKCJIZWxsbyBmcm9tIGphdmEhIik7Cgl9Cn0='\n",
    "# project_code = 'cHJpbnQoImhlbGxvIHdvcmxkISIp'\n",
    "decoded = base64.b64decode(project_code).decode(\"utf8\")\n",
    "\n",
    "list_files = subprocess.run(['javac', \"\", decoded], capture_output=True, text=True)\n",
    "print(\"The exit code was: %d\" % list_files.returncode)\n",
    "print(f\"stdout: {list_files.stdout}\")\n",
    "print(f\"stderr: {list_files.stderr}\")\n"
   ]
  },
  {
   "cell_type": "code",
   "execution_count": 30,
   "metadata": {},
   "outputs": [
    {
     "name": "stdout",
     "output_type": "stream",
     "text": [
      "The exit code was: 0\n",
      "stdout: \n",
      "stderr: \n",
      "The exit code was: 0\n",
      "stdout: Hello from java!\n",
      "\n",
      "stderr: \n"
     ]
    }
   ],
   "source": [
    "project_code = 'Ly9pbXBvcnQgamF2YS51dGlsLlNjYW5uZXI7CmNsYXNzIE1haW4gewoJcHVibGljIHN0YXRpYyB2b2lkIG1haW4oU3RyaW5nW10gYXJncykgewoJCS8vU2Nhbm5lciBzYyA9IG5ldyBTY2FubmVyKFN5c3RlbS5pbik7CgkJU3lzdGVtLm91dC5wcmludGxuKCJIZWxsbyBmcm9tIGphdmEhIik7Cgl9Cn0='\n",
    "decoded = base64.b64decode(project_code).decode(\"utf8\")\n",
    "f = open(\"meme.java\", \"w\")\n",
    "f.write(decoded)\n",
    "f.close()\n",
    "\n",
    "list_files = subprocess.run('find . -name \"*.java\" > sources.txt && javac @sources.txt ', capture_output=True, text=True, shell=True)\n",
    "print(\"The exit code was: %d\" % list_files.returncode)\n",
    "print(f\"stdout: {list_files.stdout}\")\n",
    "print(f\"stderr: {list_files.stderr}\")\n",
    "\n",
    "list_files = subprocess.run('java Main', capture_output=True, text=True, shell=True)\n",
    "print(\"The exit code was: %d\" % list_files.returncode)\n",
    "print(f\"stdout: {list_files.stdout}\")\n",
    "print(f\"stderr: {list_files.stderr}\")\n",
    "\n"
   ]
  },
  {
   "cell_type": "code",
   "execution_count": 32,
   "metadata": {},
   "outputs": [
    {
     "name": "stdout",
     "output_type": "stream",
     "text": [
      "The exit code was: 0\n",
      "stdout: \n",
      "stderr: \n",
      "The exit code was: 0\n",
      "stdout: Hello, World from C!\n",
      "stderr: \n"
     ]
    }
   ],
   "source": [
    "project_code = 'I2luY2x1ZGUgPHN0ZGlvLmg+CmludCBtYWluKCkgewogICAvLyBwcmludGYoKSBkaXNwbGF5cyB0aGUgc3RyaW5nIGluc2lkZSBxdW90YXRpb24KICAgcHJpbnRmKCJIZWxsbywgV29ybGQgZnJvbSBDISIpOwogICByZXR1cm4gMDsKfQoK'\n",
    "decoded = base64.b64decode(project_code).decode(\"utf8\")\n",
    "\n",
    "\n",
    "f = open(\"program.c\", \"w\")\n",
    "f.write(decoded)\n",
    "f.close()\n",
    "\n",
    "list_files = subprocess.run('gcc program.c', capture_output=True, text=True, shell=True)\n",
    "print(\"The exit code was: %d\" % list_files.returncode)\n",
    "print(f\"stdout: {list_files.stdout}\")\n",
    "print(f\"stderr: {list_files.stderr}\")\n",
    "\n",
    "list_files = subprocess.run('./a.out', capture_output=True, text=True, shell=True)\n",
    "print(\"The exit code was: %d\" % list_files.returncode)\n",
    "print(f\"stdout: {list_files.stdout}\")\n",
    "print(f\"stderr: {list_files.stderr}\")\n",
    "\n"
   ]
  },
  {
   "cell_type": "code",
   "execution_count": 38,
   "metadata": {},
   "outputs": [
    {
     "name": "stdout",
     "output_type": "stream",
     "text": [
      "The exit code was: 0\n",
      "stdout: Main.class\n",
      "Untitled.ipynb\n",
      "a.out\n",
      "hello-rust\n",
      "meme.java\n",
      "messages-actix\n",
      "numbers\n",
      "program.c\n",
      "sources.txt\n",
      "\n",
      "stderr: \n"
     ]
    },
    {
     "data": {
      "text/plain": [
       "['Main.class',\n",
       " 'Untitled.ipynb',\n",
       " 'a.out',\n",
       " 'hello-rust',\n",
       " 'meme.java',\n",
       " 'messages-actix',\n",
       " 'numbers',\n",
       " 'program.c',\n",
       " 'sources.txt',\n",
       " '']"
      ]
     },
     "execution_count": 38,
     "metadata": {},
     "output_type": "execute_result"
    }
   ],
   "source": [
    "result = subprocess.run(\"ls\", capture_output=True, text=True, shell=True)\n",
    "print(\"The exit code was: %d\" % result.returncode)\n",
    "print(f\"stdout: {result.stdout}\")\n",
    "print(f\"stderr: {result.stderr}\")\n",
    "\n",
    "out = result.stdout\n",
    "out.split(\"\\n\")"
   ]
  }
 ],
 "metadata": {
  "kernelspec": {
   "display_name": "Python 3",
   "language": "python",
   "name": "python3"
  },
  "language_info": {
   "codemirror_mode": {
    "name": "ipython",
    "version": 3
   },
   "file_extension": ".py",
   "mimetype": "text/x-python",
   "name": "python",
   "nbconvert_exporter": "python",
   "pygments_lexer": "ipython3",
   "version": "3.7.6"
  }
 },
 "nbformat": 4,
 "nbformat_minor": 4
}
